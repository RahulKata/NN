{
 "cells": [
  {
   "cell_type": "code",
   "execution_count": 19,
   "metadata": {
    "colab": {
     "base_uri": "https://localhost:8080/",
     "height": 50
    },
    "colab_type": "code",
    "id": "laemowQ6wFHE",
    "outputId": "b492c1b8-9de0-4210-89cb-42fd0f0fcb3f"
   },
   "outputs": [
    {
     "name": "stdout",
     "output_type": "stream",
     "text": [
      "Requirement already satisfied: mnist in /usr/local/lib/python3.6/dist-packages (0.2.2)\n",
      "Requirement already satisfied: numpy in /usr/local/lib/python3.6/dist-packages (from mnist) (1.16.5)\n"
     ]
    }
   ],
   "source": [
    "!pip install mnist"
   ]
  },
  {
   "cell_type": "code",
   "execution_count": null,
   "metadata": {
    "colab": {},
    "colab_type": "code",
    "id": "4jqFbVo5naXq"
   },
   "outputs": [],
   "source": [
    "import numpy as np\n",
    "import mnist"
   ]
  },
  {
   "cell_type": "markdown",
   "metadata": {
    "colab_type": "text",
    "id": "KVvQIoKKtJqX"
   },
   "source": [
    "##Conv3x3:-\n",
    " creates desired number of 3x3 filters"
   ]
  },
  {
   "cell_type": "code",
   "execution_count": null,
   "metadata": {
    "colab": {},
    "colab_type": "code",
    "id": "Xc1l_X4vo62T"
   },
   "outputs": [],
   "source": [
    "class Conv3x3:\n",
    "  # A Convolution layer using 3x3 filters.\n",
    "\n",
    "  def __init__(self, num_filters):\n",
    "    self.num_filters = num_filters\n",
    "\n",
    "    # filters is a 3d array with dimensions (num_filters, 3, 3)\n",
    "    # We divide by 9 to reduce the variance of our initial values\n",
    "    self.filters = np.random.randn(num_filters, 3, 3) / 9\n",
    "\n",
    "  def iterate_regions(self, image):\n",
    "    # Generates all possible 3x3 image regions using valid padding.\n",
    "    # - image is a 2d numpy array\n",
    "    h, w = image.shape\n",
    "\n",
    "    for i in range(h - 2):\n",
    "      for j in range(w - 2):\n",
    "        im_region = image[i:(i + 3), j:(j + 3)]\n",
    "        yield im_region, i, j\n",
    "\n",
    "  def forward(self, input):\n",
    "    # Performs a forward pass of the conv layer using the given input.\n",
    "    # Returns a 3d numpy array with dimensions (h, w, num_filters).\n",
    "    # - input is a 2d numpy array\n",
    "    h, w = input.shape\n",
    "    output = np.zeros((h - 2, w - 2, self.num_filters))\n",
    "\n",
    "    for im_region, i, j in self.iterate_regions(input):\n",
    "      output[i, j] = np.sum(im_region * self.filters, axis=(1, 2))\n",
    "\n",
    "    return output\n",
    "\n",
    "# print(Conv3x3(8)) "
   ]
  },
  {
   "cell_type": "markdown",
   "metadata": {
    "colab_type": "text",
    "id": "llWtKDSmus8Q"
   },
   "source": [
    "##MaxPool2 :-\n",
    " creates a pooling layer with pool size of 2 right after our initial conv layer\n",
    "\n",
    " The pooling layer will transform a 26x26x8 input into a 13x13x8 outpu"
   ]
  },
  {
   "cell_type": "code",
   "execution_count": null,
   "metadata": {
    "colab": {},
    "colab_type": "code",
    "id": "SPHGXQ3_pl4V"
   },
   "outputs": [],
   "source": [
    "class MaxPool2:\n",
    "  # A Max Pooling layer using a pool size of 2.\n",
    "\n",
    "  def iterate_regions(self, image):\n",
    "    # Generates non-overlapping 2x2 image regions to pool over.\n",
    "    # - image is a 2d numpy array\n",
    "    h, w, _ = image.shape\n",
    "    new_h = h // 2\n",
    "    new_w = w // 2\n",
    "\n",
    "    for i in range(new_h):\n",
    "      for j in range(new_w):\n",
    "        im_region = image[(i * 2):(i * 2 + 2), (j * 2):(j * 2 + 2)]\n",
    "        yield im_region, i, j\n",
    "\n",
    "  def forward(self, input):\n",
    "    # Performs a forward pass of the maxpool layer using the given input.\n",
    "    # Returns a 3d numpy array with dimensions (h / 2, w / 2, num_filters).\n",
    "    # - input is a 3d numpy array with dimensions (h, w, num_filters)\n",
    "    h, w, num_filters = input.shape\n",
    "    output = np.zeros((h // 2, w // 2, num_filters))\n",
    "\n",
    "    for im_region, i, j in self.iterate_regions(input):\n",
    "      output[i, j] = np.amax(im_region, axis=(0, 1))\n",
    "\n",
    "    return output"
   ]
  },
  {
   "cell_type": "markdown",
   "metadata": {
    "colab_type": "text",
    "id": "vhlKnmqyvOcA"
   },
   "source": [
    "##Softmax :-\n",
    "We’ll use a softmax layer with 10 nodes, one representing each digit\n",
    "\n",
    "The digit represented by the node with the highest probability"
   ]
  },
  {
   "cell_type": "code",
   "execution_count": null,
   "metadata": {
    "colab": {},
    "colab_type": "code",
    "id": "PckHpDPZsFtq"
   },
   "outputs": [],
   "source": [
    "class Softmax:\n",
    "  # A standard fully-connected layer with softmax activation.\n",
    "\n",
    "  def __init__(self, input_len, nodes):\n",
    "    # We divide by input_len to reduce the variance of our initial values\n",
    "    self.weights = np.random.randn(input_len, nodes) / input_len\n",
    "    self.biases = np.zeros(nodes)\n",
    "\n",
    "  def forward(self, input):\n",
    "    # Performs a forward pass of the softmax layer using the given input.\n",
    "    # Returns a 1d numpy array containing the respective probability values.\n",
    "    # - input can be any array with any dimensions.\n",
    "    input = input.flatten()\n",
    "\n",
    "    input_len, nodes = self.weights.shape\n",
    "\n",
    "    totals = np.dot(input, self.weights) + self.biases\n",
    "    exp = np.exp(totals)\n",
    "    return exp / np.sum(exp, axis=0)"
   ]
  },
  {
   "cell_type": "markdown",
   "metadata": {
    "colab_type": "text",
    "id": "Kk-prmMAvrqM"
   },
   "source": [
    "\n",
    "\n",
    "---\n",
    "\n",
    "\n",
    "###Let's put this together!"
   ]
  },
  {
   "cell_type": "code",
   "execution_count": 42,
   "metadata": {
    "colab": {
     "base_uri": "https://localhost:8080/",
     "height": 202
    },
    "colab_type": "code",
    "id": "Ng4q6m5Js8GH",
    "outputId": "bc7b2a19-8add-4f55-d1ca-fff39eacde0b"
   },
   "outputs": [
    {
     "name": "stdout",
     "output_type": "stream",
     "text": [
      "MNIST CNN initialized!\n",
      "[Step 100] Past 100 steps: Average Loss 2.302 | Accuracy: 6%\n",
      "[Step 200] Past 100 steps: Average Loss 2.303 | Accuracy: 7%\n",
      "[Step 300] Past 100 steps: Average Loss 2.302 | Accuracy: 15%\n",
      "[Step 400] Past 100 steps: Average Loss 2.303 | Accuracy: 10%\n",
      "[Step 500] Past 100 steps: Average Loss 2.303 | Accuracy: 6%\n",
      "[Step 600] Past 100 steps: Average Loss 2.302 | Accuracy: 5%\n",
      "[Step 700] Past 100 steps: Average Loss 2.302 | Accuracy: 6%\n",
      "[Step 800] Past 100 steps: Average Loss 2.303 | Accuracy: 8%\n",
      "[Step 900] Past 100 steps: Average Loss 2.303 | Accuracy: 7%\n",
      "[Step 1000] Past 100 steps: Average Loss 2.302 | Accuracy: 11%\n"
     ]
    }
   ],
   "source": [
    "# We only use the first 1k testing examples (out of 10k total) in the interest of time.\n",
    "# Feel free to change this if you want.\n",
    "test_images = mnist.test_images()[:1000]\n",
    "test_labels = mnist.test_labels()[:1000]\n",
    "\n",
    "conv = Conv3x3(8)                  # 28x28x1 -> 26x26x8\n",
    "pool = MaxPool2()                  # 26x26x8 -> 13x13x8\n",
    "softmax = Softmax(13 * 13 * 8, 10) # 13x13x8 -> 10\n",
    "\n",
    "def forward(image, label):\n",
    "  # Completes a forward pass of the CNN and calculates the accuracy and\n",
    "  # cross-entropy loss.\n",
    "  # - image is a 2d numpy array\n",
    "  # - label is a digit\n",
    "  # We transform the image from [0, 255] to [-0.5, 0.5] to make it easier\n",
    "  # to work with. This is standard practice.\n",
    "  out = conv.forward((image / 255) - 0.5)\n",
    "  out = pool.forward(out)\n",
    "  out = softmax.forward(out)\n",
    "\n",
    "  # Calculate cross-entropy loss and accuracy. np.log() is the natural log.\n",
    "  loss = -np.log(out[label])\n",
    "  acc = 1 if np.argmax(out) == label else 0\n",
    "\n",
    "  return out, loss, acc\n",
    "\n",
    "print('MNIST CNN initialized!')\n",
    "\n",
    "loss = 0\n",
    "num_correct = 0\n",
    "for i, (im, label) in enumerate(zip(test_images, test_labels)):\n",
    "  # Do a forward pass.\n",
    "  _, l, acc = forward(im, label)\n",
    "  loss += l\n",
    "  num_correct += acc\n",
    "\n",
    "  # Print stats every 100 steps.\n",
    "  if i % 100 == 99:\n",
    "    print(\n",
    "      '[Step %d] Past 100 steps: Average Loss %.3f | Accuracy: %d%%' %\n",
    "      (i + 1, loss / 100, num_correct)\n",
    "    )\n",
    "    loss = 0\n",
    "    num_correct = 0"
   ]
  },
  {
   "cell_type": "markdown",
   "metadata": {
    "colab_type": "text",
    "id": "VnifE9Xr0Lce"
   },
   "source": [
    "This makes sense: with random weight initialization, you’d expect the CNN to be only as good as random guessing. Random guessing would yield 10% accuracy (since there are 10 classes) and a cross-entropy loss of {-\\ln(0.1)} = 2.302−ln(0.1)=2.302"
   ]
  }
 ],
 "metadata": {
  "colab": {
   "collapsed_sections": [],
   "include_colab_link": true,
   "name": "firstcnn.ipynb",
   "provenance": [],
   "version": "0.3.2"
  },
  "kernelspec": {
   "display_name": "Python 3",
   "language": "python",
   "name": "python3"
  },
  "language_info": {
   "codemirror_mode": {
    "name": "ipython",
    "version": 3
   },
   "file_extension": ".py",
   "mimetype": "text/x-python",
   "name": "python",
   "nbconvert_exporter": "python",
   "pygments_lexer": "ipython3",
   "version": "3.7.4"
  }
 },
 "nbformat": 4,
 "nbformat_minor": 4
}
